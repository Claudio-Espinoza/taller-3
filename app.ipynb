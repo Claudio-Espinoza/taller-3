{
 "cells": [
  {
   "cell_type": "markdown",
   "id": "e8c98f80",
   "metadata": {},
   "source": [
    "Cargar dependencias"
   ]
  },
  {
   "cell_type": "code",
   "execution_count": null,
   "id": "09c3565c",
   "metadata": {},
   "outputs": [],
   "source": [
    "import pandas as pd\n",
    "from sklearn.model_selection import train_test_split\n",
    "from sklearn.preprocessing import LabelEncoder\n",
    "from sklearn.ensemble import RandomForestClassifier\n",
    "from sklearn.linear_model import LogisticRegression\n",
    "from sklearn.tree import DecisionTreeClassifier\n",
    "from sklearn.metrics import classification_report\n",
    "import matplotlib.pyplot as plt\n",
    "from sklearn.metrics import confusion_matrix, ConfusionMatrixDisplay\n"
   ]
  },
  {
   "cell_type": "markdown",
   "id": "7ee2a006",
   "metadata": {},
   "source": [
    "Obtenemos los datos desde el datasets"
   ]
  },
  {
   "cell_type": "code",
   "execution_count": null,
   "id": "493632f7",
   "metadata": {},
   "outputs": [],
   "source": [
    "# Origen: Nuestro\n",
    "\n",
    "# Cargar datos desde un archivo CSV\n",
    "# Visualiza los datos\n",
    "\n",
    "df = pd.read_csv(\"datos.csv\")\n",
    "df.head()"
   ]
  },
  {
   "cell_type": "markdown",
   "id": "2b2fc51e",
   "metadata": {},
   "source": [
    "Transformamos los datos de lluvia a 1 si llueve y 0 si no llueve"
   ]
  },
  {
   "cell_type": "code",
   "execution_count": null,
   "id": "056e5841",
   "metadata": {},
   "outputs": [],
   "source": [
    "# Origien: Del repo de clases con modificación de datos\n",
    "\n",
    "df['llueve'] = df['precipitation_sum (mm)'].apply(lambda x: 1 if x > 0 else 0)\n",
    "df.head()"
   ]
  },
  {
   "cell_type": "markdown",
   "id": "7dc65b3d",
   "metadata": {},
   "source": [
    "Limpiamos los datos eliminando los datos nulos"
   ]
  },
  {
   "cell_type": "code",
   "execution_count": null,
   "id": "e640624f",
   "metadata": {},
   "outputs": [],
   "source": [
    "# Origien: Repo tutorial de pandas (Curso)\n",
    "# Extra: https://www.analyticslane.com/2023/04/24/eliminar-las-filas-con-valores-nulos-en-pandas/\n",
    "\n",
    "# Por defecto el metodo dropna() elimina las filas que tienen al menos un valor NaN\n",
    "df_limpio = df.dropna()\n",
    "df_limpio"
   ]
  },
  {
   "cell_type": "markdown",
   "id": "eb9f6abe",
   "metadata": {},
   "source": [
    "Separamos los datos en datos de entrenamiento y en datos de prueba"
   ]
  },
  {
   "cell_type": "code",
   "execution_count": null,
   "id": "6757aa6f",
   "metadata": {},
   "outputs": [],
   "source": [
    "X = df_limpio[['weather_code (wmo code)', 'temperature_2m_max (°C)',\n",
    "       'temperature_2m_min (°C)',\n",
    "       'wind_speed_10m_max (km/h)', 'wind_gusts_10m_max (km/h)',\n",
    "       'sunshine_duration (s)', 'precipitation_hours (h)']]\n",
    "le = LabelEncoder()\n",
    "y = df_limpio[['llueve']]\n",
    "# Dividir en entrenamiento y prueba\n",
    "X_train, X_test, y_train, y_test = train_test_split(X, y, stratify=y, test_size=0.2, random_state=42)\n",
    "\n"
   ]
  },
  {
   "cell_type": "markdown",
   "id": "1f7d8649",
   "metadata": {},
   "source": [
    "Prueba modelo\n"
   ]
  },
  {
   "cell_type": "code",
   "execution_count": null,
   "id": "f20dc9a9",
   "metadata": {},
   "outputs": [],
   "source": [
    "# Random Forest\n",
    "model = RandomForestClassifier()\n",
    "model.fit(X_train, y_train)\n",
    "y_pred = model.predict(X_test)\n",
    "\n",
    "print(classification_report(y_test, y_pred))\n",
    "\n",
    "cm = confusion_matrix(y_test, y_pred)\n",
    "disp = ConfusionMatrixDisplay(confusion_matrix=cm, display_labels=[\"No llueve\", \"Llueve\"])\n",
    "disp.plot(cmap='Blues')\n",
    "plt.title(\"Matriz de Confusión: Predicción de Lluvia\")\n",
    "plt.show()"
   ]
  }
 ],
 "metadata": {
  "kernelspec": {
   "display_name": ".venv",
   "language": "python",
   "name": "python3"
  },
  "language_info": {
   "codemirror_mode": {
    "name": "ipython",
    "version": 3
   },
   "file_extension": ".py",
   "mimetype": "text/x-python",
   "name": "python",
   "nbconvert_exporter": "python",
   "pygments_lexer": "ipython3",
   "version": "3.12.2"
  }
 },
 "nbformat": 4,
 "nbformat_minor": 5
}
